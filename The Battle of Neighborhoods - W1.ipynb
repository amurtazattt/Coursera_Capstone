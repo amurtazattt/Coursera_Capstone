{
 "cells": [
  {
   "cell_type": "markdown",
   "metadata": {},
   "source": [
    "# The Battle of the Neighbourhoods - Week 1"
   ]
  },
  {
   "cell_type": "markdown",
   "metadata": {},
   "source": [
    "## Introduction/Business Problem"
   ]
  },
  {
   "cell_type": "markdown",
   "metadata": {},
   "source": [
    "An Pakistani family will be travelling to New York for holidays. They have tasked me to find the best Pakistani restaurants in all of New York, so that their stay is comfortable. They want to experience the New York life but don't want to leave behind Pakistani Culture. Also, they are only accustomed to Pakistani food. So in this project I will find the best Pakistani restaurants in New York and divide them into zones for easier understanding. With this information the family can eat the best Pakistani food in New York with ease.\n",
    "\n",
    "It is important to note that the demographics of New York City is one that is particularly and ethnically diverse, culturally rich and generally interesting. As one of the largest cities in the United States, it stands out on the strength of what it offers residents and visitors alike. With a population of just over 8.4 million people in 2020, it accounts for over 40% of the population of New York State and comes slightly behind the population percentage of the New York metropolitan area, which happens to be home to approximately 18.4 million people. Over the last decade the city has been growing faster than the region. The New York region continues to be by far the leading metropolitan gateway for legal immigrants admitted into the United States.\n",
    "\n",
    "New York City is also densely populated which as a result, it earned the term \"melting pot\" - coined to describe the densely populated immigrant neighborhoods on the Lower East Side. As many as 800 languages are spoken in New York, making it the most linguistically diverse city in the world. English remains the most widely spoken language, although there are areas in the outer boroughs in which up to 25% of people speak English as an alternate language, and/or have limited or no English language fluency. English is least spoken in neighborhoods such as Flushing, Sunset Park, and Corona.\n",
    "\n",
    "It is no brainer that with its diverse culture, comes the yearning for diverse food items and culinary tastes. There are many restaurants in New york City, belonging to different categories of ethnicities not limited to Pakistani, Chinese, French, Italian, etc. My goal on this project is to highlight and visualize the neighbourhoods and boroughs in New York City where you can find Pakistani restaurants.\n",
    "\n"
   ]
  },
  {
   "cell_type": "markdown",
   "metadata": {},
   "source": [
    "## Data"
   ]
  },
  {
   "cell_type": "markdown",
   "metadata": {},
   "source": [
    "Here is an overview of all the data points for this project:\n",
    "\n",
    "A dataset of New York City containing the list Boroughs, Neighborhoods along with their latitude and longitude. Data source : https://cocl.us/new_york_dataset Description : This data set contains the required information. And we will use this data set to explore various neighborhoods of new york city.\n",
    "\n",
    "A dataset leveraging Foursquare API of Indian resturants across the various neighborhood of NYC. Data source : Fousquare API Description : This API would prvide an up-to-date information on all the restaurants in each neighborhood. A further drill down of the dataset wil then provide the venues for Indian restaurants spread across the various neighbourhoods.\n",
    "\n",
    "GeoSpace data Data source : https://data.cityofnewyork.us/City-Government/Borough-Boundaries/tqmj-j8zm Description : This will provide the functionality needed to visualize the New york Borough boundaries with the aid of a Choropleth map."
   ]
  },
  {
   "cell_type": "markdown",
   "metadata": {},
   "source": [
    "## The Approach Adopted"
   ]
  },
  {
   "cell_type": "markdown",
   "metadata": {},
   "source": [
    "1. Collect the new york city data from https://cocl.us/new_york_dataset\n",
    "2. Using FourSquare API we will find all venues for each neighborhood.\n",
    "3. Filter out all venues that are Indian restaurants.\n",
    "4. Find rating , tips and like count for each Indian Restaurants using FourSquare API.\n",
    "5. Sort out the data using the ratings for each resturant.\n",
    "6. Visualize the ranking of neighborhoods using folium library."
   ]
  },
  {
   "cell_type": "code",
   "execution_count": null,
   "metadata": {},
   "outputs": [],
   "source": []
  }
 ],
 "metadata": {
  "kernelspec": {
   "display_name": "Python 3",
   "language": "python",
   "name": "python3"
  },
  "language_info": {
   "codemirror_mode": {
    "name": "ipython",
    "version": 3
   },
   "file_extension": ".py",
   "mimetype": "text/x-python",
   "name": "python",
   "nbconvert_exporter": "python",
   "pygments_lexer": "ipython3",
   "version": "3.7.6"
  }
 },
 "nbformat": 4,
 "nbformat_minor": 4
}
